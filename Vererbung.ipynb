{
 "cells": [
  {
   "cell_type": "markdown",
   "id": "ef8c4bce",
   "metadata": {},
   "source": [
    "## Vererbung in Python\n",
    "\n",
    "Mit der Vererbung lassen sich __ist ein__-Beziehungen umsetzen. Dabei übernimmt eine Kindklasse die Attribute und Methoden der Elternklasse.\n",
    "Wir betrachten die Klassen `Kraftfahrzeug` und `PKW`. Ein `PKW` __ist ein__ `Kraftfahrzeug` und kann daher von der Klasse `Kraftfahrzeug`, die unten abgebildet ist, erben."
   ]
  },
  {
   "cell_type": "code",
   "execution_count": null,
   "id": "397a81fa",
   "metadata": {},
   "outputs": [],
   "source": [
    "class Kraftfahrzeug: \n",
    "    def __init__(self, leergewicht, hoechstgeschwindigkeit):\n",
    "        self.leergewicht = leergewicht \n",
    "        self.hoechstgeschwindigkeit = hoechstgeschwindigkeit \n",
    "    \n",
    "    def beschleunigen(self): \n",
    "        print(\"Brummm ...\")"
   ]
  },
  {
   "cell_type": "markdown",
   "id": "be6d37b7",
   "metadata": {},
   "source": [
    "Um eine Kindklasse von `Kraftfahrzeug` zu erzeugen, müssen wir den Namen der Elternklasse bei der Definition der Kindklasse in Klammern mit angeben:"
   ]
  },
  {
   "cell_type": "code",
   "execution_count": null,
   "id": "c371fd7a",
   "metadata": {},
   "outputs": [],
   "source": [
    "class PKW(Kraftfahrzeug):\n",
    "    pass"
   ]
  },
  {
   "cell_type": "markdown",
   "id": "e601ccc9",
   "metadata": {},
   "source": [
    "Schon jetzt können wir eine Instanz der Klasse `PKW` anlegen, die Zugriff auf die Attribute und Me-thoden der Elternklasse `Kraftfahrzeug` hat:"
   ]
  },
  {
   "cell_type": "code",
   "execution_count": null,
   "id": "67fe79b0",
   "metadata": {},
   "outputs": [],
   "source": [
    "# Mazda RX-8\n",
    "# Leergewicht: 1400kg\n",
    "# Höchstgeschwindigkeit: 240 km/h\n",
    "rx8 = PKW(1400, 240)\n",
    "\n",
    "rx8.beschleunigen()"
   ]
  },
  {
   "cell_type": "markdown",
   "id": "86ce9db6",
   "metadata": {},
   "source": [
    "Nun erweitern wir die Klasse `PKW` um ein eigenes Attribut, welches die Klasse `Kraftfahrzeug` nicht besitzt: `sitzplaetze`. In diesem Attribut speichern wir die Anzahl der Sitzplätze eines Autos.\n",
    "Das könnte in einem ersten Ansatz wie folgt aussehen:"
   ]
  },
  {
   "cell_type": "code",
   "execution_count": null,
   "id": "ba84e09b",
   "metadata": {},
   "outputs": [],
   "source": [
    "class PKW(Kraftfahrzeug):\n",
    "    def __init__(self, leergewicht, hoechstgeschwindigkeit, sitzplaetze):\n",
    "        self.leergewicht = leergewicht \n",
    "        self.hoechstgeschwindigkeit = hoechstgeschwindigkeit\n",
    "        self.sitzplaetze = sitzplaetze"
   ]
  },
  {
   "cell_type": "markdown",
   "id": "948ea28e",
   "metadata": {},
   "source": [
    "Unsere Definition des Konstruktors ist allerdings noch nicht optimal: Die Wertzuweisungen für die\n",
    "Attribute `leergewicht` und `hoechstgeschwindigkeit` können von der Elternklasse übernommen\n",
    "werden. Hierfür müssen wir den Konstruktor der Elternklasse im Konstruktor der Kindklasse\n",
    "aufrufen, was mit der eingebauten Funktion `super()`geschieht:"
   ]
  },
  {
   "cell_type": "code",
   "execution_count": null,
   "id": "bb4e064d",
   "metadata": {},
   "outputs": [],
   "source": [
    "class PKW(Kraftfahrzeug):\n",
    "    def __init__(self, leergewicht, hoechstgeschwindigkeit, sitzplaetze):\n",
    "        super().__init__(leergewicht, hoechstgeschwindigkeit)\n",
    "        self.sitzplaetze = sitzplaetze"
   ]
  },
  {
   "cell_type": "markdown",
   "id": "85a4412c",
   "metadata": {},
   "source": [
    "Die Funktion `super()` liefert hierbei ein sogenanntes Proxy-Objekt der Elternklasse zurück. Vereinfacht\n",
    "ausgedrückt können wir über dieses auf die Methoden der Elternklasse zugreifen.\n",
    "\n",
    "Die Funktion wird in späteren Unterrichtseinheiten noch ausführlicher behandelt!"
   ]
  },
  {
   "cell_type": "markdown",
   "id": "2b5e6e64",
   "metadata": {},
   "source": [
    "Um eine Instanz der Klasse `PKW` anlegen zu können, müssen wir nun ein weiteres Attribut im Konstruktor übergeben:"
   ]
  },
  {
   "cell_type": "code",
   "execution_count": null,
   "id": "7e470aeb",
   "metadata": {},
   "outputs": [],
   "source": [
    "# Mazda RX-8\n",
    "# Leergewicht: 1400kg\n",
    "# Höchstgeschwindigkeit: 240 km/h\n",
    "# Sitzplätze : 4\n",
    "rx8 = PKW(1400, 240, 4)\n",
    "\n",
    "rx8.beschleunigen()"
   ]
  },
  {
   "cell_type": "markdown",
   "id": "ff8028e3",
   "metadata": {},
   "source": [
    "Eine Klasse darf selbstverständlich auch mehrere Kindklassen haben. So könnte neben der Klasse\n",
    "`PKW` auch eine Klasse `LKW` von Kraftfahrzeug erben:"
   ]
  },
  {
   "cell_type": "code",
   "execution_count": null,
   "id": "e04df532",
   "metadata": {},
   "outputs": [],
   "source": [
    "class LKW(Kraftfahrzeug):\n",
    "    def __init__(self, leergewicht, hoechstgeschwindigkeit, nutzlast):\n",
    "        super().__init__(leergewicht, hoechstgeschwindigkeit)\n",
    "        self.nutzlast = nutzlast"
   ]
  }
 ],
 "metadata": {
  "kernelspec": {
   "display_name": "Python 3 (ipykernel)",
   "language": "python",
   "name": "python3"
  },
  "language_info": {
   "codemirror_mode": {
    "name": "ipython",
    "version": 3
   },
   "file_extension": ".py",
   "mimetype": "text/x-python",
   "name": "python",
   "nbconvert_exporter": "python",
   "pygments_lexer": "ipython3",
   "version": "3.10.4"
  }
 },
 "nbformat": 4,
 "nbformat_minor": 5
}
